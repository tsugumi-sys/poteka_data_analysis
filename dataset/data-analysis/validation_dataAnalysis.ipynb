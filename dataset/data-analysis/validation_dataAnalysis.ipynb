{
 "cells": [
  {
   "cell_type": "code",
   "execution_count": 1,
   "id": "91597324",
   "metadata": {},
   "outputs": [],
   "source": [
    "import pandas as pd\n",
    "import numpy as np\n",
    "import matplotlib.pyplot as plt\n",
    "import seaborn as sns\n",
    "import os\n",
    "import glob\n",
    "from datetime import datetime, timedelta\n",
    "from metpy.units import units\n",
    "from metpy.calc import wind_components"
   ]
  },
  {
   "cell_type": "code",
   "execution_count": 2,
   "id": "118eb5a5",
   "metadata": {},
   "outputs": [],
   "source": [
    "def datetime_range(start, end, delta):\n",
    "    current = start\n",
    "    while current <= end:\n",
    "        yield current\n",
    "        current += delta\n",
    "\n",
    "def csv_list(year, month, date):\n",
    "    dts = [f'{dt.hour}-{dt.minute}.csv' for dt in \n",
    "           datetime_range(datetime(year, month, date, 0), datetime(year, month, date, 23, 59), timedelta(minutes=10))]\n",
    "    return dts\n",
    "\n",
    "def calc_u_v(df, ob_point):\n",
    "    wind_dir = df['WD1']\n",
    "    wind_speed = df['WS1']\n",
    "    wind_u_v = wind_components(wind_speed * units('m/s'), wind_dir * units.deg)\n",
    "    return [ob_point, round(wind_u_v[0].magnitude, 5), round(wind_u_v[1].magnitude, 5)] # (index, u wind, v wind) u: X (East-West) v: Y(North-South)\n",
    "\n",
    "csv_files = csv_list(2020, 1, 1)\n",
    "\n",
    "over5_rain_csvnames = {}\n",
    "rain = []\n",
    "root_path = '../../../data/one_day_data/2019/'\n",
    "monthes = [10, 11]\n",
    "cols = ['hour-rain']\n",
    "for month in monthes:\n",
    "    if month < 10:\n",
    "        month = '0'+str(month)\n",
    "    else:\n",
    "        month = str(month)\n",
    "    for date in os.listdir(root_path + month):\n",
    "        for i in range(0, 133, 12):\n",
    "            max_rain = 0\n",
    "            for csv_file in csv_files[i:i+12]:\n",
    "                one_df = pd.read_csv(root_path + f'{month}/{date}/{csv_file}', index_col=0) # index: observation name\n",
    "                one_df.index.names = ['ob_point']\n",
    "                wind_df = pd.DataFrame( [calc_u_v(one_df.loc[i, :], i) for i in one_df.index], columns=['ob_point', 'u_wind', 'v_wind'])\n",
    "                wind_df = wind_df.set_index('ob_point')\n",
    "                one_df = one_df.merge(wind_df, how='left', on='ob_point')\n",
    "                if one_df['hour-rain'].max() > max_rain:\n",
    "                    max_rain = one_df['hour-rain'].max()\n",
    "            if max_rain > 5:\n",
    "                if not date in over5_rain_csvnames:\n",
    "                    over5_rain_csvnames[date] = []\n",
    "                over5_rain_csvnames[date].append(csv_files[i:i+12])\n",
    "                \n",
    "            rain.append(max_rain)\n",
    "rain_df = pd.DataFrame({'rain':rain })"
   ]
  },
  {
   "cell_type": "code",
   "execution_count": 6,
   "id": "279eae35",
   "metadata": {},
   "outputs": [],
   "source": [
    "valid_data_list = []\n",
    "cols = ['date', 'start', 'end']\n",
    "count = 0\n",
    "for key in over5_rain_csvnames.keys():\n",
    "    files = over5_rain_csvnames[key]\n",
    "    for file in files:\n",
    "        start = file[0]\n",
    "        end = file[-1]\n",
    "        valid_data_list.append([key, start, end])\n",
    "df = pd.DataFrame(valid_data_list, columns=cols)\n",
    "df.head()\n",
    "df.to_csv('valid_data_list.csv')"
   ]
  },
  {
   "cell_type": "code",
   "execution_count": 15,
   "id": "5cc1be8a",
   "metadata": {},
   "outputs": [
    {
     "name": "stdout",
     "output_type": "stream",
     "text": [
      "2-0.csv 3-50.csv\n",
      "4-0.csv 5-50.csv\n",
      "6-0.csv 7-50.csv\n",
      "12-0.csv 13-50.csv\n",
      "14-0.csv 15-50.csv\n"
     ]
    }
   ],
   "source": [
    "df = pd.read_csv('valid_data_list.csv')\n",
    "dates = df['date'].unique()\n",
    "for date in dates:\n",
    "    files = df.loc[df['date'] == date]\n",
    "    for i in files.index:\n",
    "        start, end = files.loc[i, 'start'], files.loc[i, 'end']\n",
    "        print(start, end)\n",
    "    break"
   ]
  },
  {
   "cell_type": "code",
   "execution_count": 5,
   "id": "2045b2a7",
   "metadata": {},
   "outputs": [
    {
     "name": "stdout",
     "output_type": "stream",
     "text": [
      "2.8968253968253967 % rain dataset in all dataset\n"
     ]
    },
    {
     "data": {
      "text/html": [
       "<div>\n",
       "<style scoped>\n",
       "    .dataframe tbody tr th:only-of-type {\n",
       "        vertical-align: middle;\n",
       "    }\n",
       "\n",
       "    .dataframe tbody tr th {\n",
       "        vertical-align: top;\n",
       "    }\n",
       "\n",
       "    .dataframe thead th {\n",
       "        text-align: right;\n",
       "    }\n",
       "</style>\n",
       "<table border=\"1\" class=\"dataframe\">\n",
       "  <thead>\n",
       "    <tr style=\"text-align: right;\">\n",
       "      <th></th>\n",
       "      <th>rain</th>\n",
       "    </tr>\n",
       "  </thead>\n",
       "  <tbody>\n",
       "    <tr>\n",
       "      <th>count</th>\n",
       "      <td>732.000000</td>\n",
       "    </tr>\n",
       "    <tr>\n",
       "      <th>mean</th>\n",
       "      <td>2.373634</td>\n",
       "    </tr>\n",
       "    <tr>\n",
       "      <th>std</th>\n",
       "      <td>7.749503</td>\n",
       "    </tr>\n",
       "    <tr>\n",
       "      <th>min</th>\n",
       "      <td>0.000000</td>\n",
       "    </tr>\n",
       "    <tr>\n",
       "      <th>25%</th>\n",
       "      <td>0.000000</td>\n",
       "    </tr>\n",
       "    <tr>\n",
       "      <th>50%</th>\n",
       "      <td>0.000000</td>\n",
       "    </tr>\n",
       "    <tr>\n",
       "      <th>75%</th>\n",
       "      <td>0.500000</td>\n",
       "    </tr>\n",
       "    <tr>\n",
       "      <th>max</th>\n",
       "      <td>63.500000</td>\n",
       "    </tr>\n",
       "  </tbody>\n",
       "</table>\n",
       "</div>"
      ],
      "text/plain": [
       "             rain\n",
       "count  732.000000\n",
       "mean     2.373634\n",
       "std      7.749503\n",
       "min      0.000000\n",
       "25%      0.000000\n",
       "50%      0.000000\n",
       "75%      0.500000\n",
       "max     63.500000"
      ]
     },
     "execution_count": 5,
     "metadata": {},
     "output_type": "execute_result"
    },
    {
     "data": {
      "image/png": "[encoded data removed]",
      "text/plain": [
       "<Figure size 432x288 with 1 Axes>"
      ]
     },
     "metadata": {
      "needs_background": "light"
     },
     "output_type": "display_data"
    }
   ],
   "source": [
    "rain_df_over1 = rain_df.loc[rain_df['rain'] > 5]\n",
    "fig, ax = plt.subplots()\n",
    "sns.histplot(rain_df_over1, bins=25, ax=ax)\n",
    "ax.set_xlabel('Hourly Rainfall (mm/h)')\n",
    "ax.get_legend().remove()\n",
    "plt.savefig('rain_histplot.png')\n",
    "print((len(rain_df_over1)/(30*12*7))*100, '% rain dataset in all dataset')\n",
    "rain_df.describe()"
   ]
  },
  {
   "cell_type": "code",
   "execution_count": 7,
   "id": "645366a3",
   "metadata": {},
   "outputs": [
    {
     "name": "stdout",
     "output_type": "stream",
     "text": [
      "2019-10-04 51.5\n",
      "2019-10-04 63.5\n",
      "2019-10-12 56.0\n",
      "2019-10-12 59.5\n",
      "2019-10-02 52.5\n"
     ]
    }
   ],
   "source": [
    "data = {} \n",
    "for date in [*over5_rain_csvnames]:\n",
    "    if not date in data:\n",
    "        data[date] = []\n",
    "    for csv_names in over5_rain_csvnames[date]:\n",
    "        df = pd.DataFrame()\n",
    "        month = date.split('-')[1]\n",
    "        max_rain = 0\n",
    "        for csv_name in csv_names:\n",
    "            one_df = pd.read_csv(root_path + f'{month}/{date}/{csv_name}', index_col=0)\n",
    "            if one_df['hour-rain'].max() > max_rain:\n",
    "                max_rain = one_df['hour-rain'].max()\n",
    "            for ob_point in one_df.index:\n",
    "                ob = ob_point.split('_')[0]\n",
    "                for col in one_df.columns:\n",
    "                    df.loc[csv_name, f'{col}-{ob}'] = one_df.loc[ob_point, col]\n",
    "        data[date].append(df)\n",
    "        if max_rain > 50:\n",
    "            print(date, max_rain)"
   ]
  },
  {
   "cell_type": "code",
   "execution_count": 25,
   "id": "d94cc34d",
   "metadata": {},
   "outputs": [],
   "source": [
    "# Calculate RMSE\n",
    "csv_files = csv_list(2020,1,1)\n",
    "monthes = ['10', '11']\n",
    "prediction_root = '../../../data/prediction_image/oneByone_model/60min_ruv_model_selectedData_optuned/2019/'\n",
    "label_root = '../../../data/rain_image/2019/'\n",
    "\n",
    "for month in monthes:\n",
    "    for date in os.listdir(label_root + month):\n",
    "        rmse_df = pd.DataFrame()\n",
    "        for csv_file in csv_files[6:]:\n",
    "            label_data = pd.read_csv(label_root + month + f'/{date}/{csv_file}', index_col=0)\n",
    "            pred_data = pd.read_csv(prediction_root + month + f'/{date}/{csv_file}', index_col=0)\n",
    "            rmse = ((label_data.values - pred_data.values) ** 2).mean() ** .5\n",
    "            rmse_df.loc[csv_file, 'RMSE'] = rmse\n",
    "        rmse_df.to_csv(prediction_root + month + f'/RMSE/{date}.csv')"
   ]
  },
  {
   "cell_type": "code",
   "execution_count": 19,
   "id": "9cade20c",
   "metadata": {},
   "outputs": [
    {
     "data": {
      "text/plain": [
       "(50, 50)"
      ]
     },
     "execution_count": 19,
     "metadata": {},
     "output_type": "execute_result"
    }
   ],
   "source": [
    "label_data.values.shape"
   ]
  },
  {
   "cell_type": "code",
   "execution_count": null,
   "id": "46687285",
   "metadata": {},
   "outputs": [],
   "source": []
  }
 ],
 "metadata": {
  "kernelspec": {
   "display_name": "Python 3",
   "language": "python",
   "name": "python3"
  },
  "language_info": {
   "codemirror_mode": {
    "name": "ipython",
    "version": 3
   },
   "file_extension": ".py",
   "mimetype": "text/x-python",
   "name": "python",
   "nbconvert_exporter": "python",
   "pygments_lexer": "ipython3",
   "version": "3.7.9"
  }
 },
 "nbformat": 4,
 "nbformat_minor": 5
}
