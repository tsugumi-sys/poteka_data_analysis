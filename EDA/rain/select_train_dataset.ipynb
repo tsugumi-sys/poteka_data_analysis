{
 "cells": [
  {
   "cell_type": "code",
   "execution_count": null,
   "metadata": {},
   "outputs": [],
   "source": [
    "import pandas as pd\n",
    "import json\n"
   ]
  }
 ],
 "metadata": {
  "interpreter": {
   "hash": "d4fc3a09f8928983a51e5c52e8cc627ecd31fb723a4e793401e3f93ddbe933fc"
  },
  "kernelspec": {
   "display_name": "Python 3.9.7 64-bit",
   "name": "python3"
  },
  "language_info": {
   "name": "python",
   "version": ""
  },
  "orig_nbformat": 4
 },
 "nbformat": 4,
 "nbformat_minor": 2
}