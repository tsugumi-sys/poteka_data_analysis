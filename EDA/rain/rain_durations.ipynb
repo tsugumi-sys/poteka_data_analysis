{
 "cells": [
  {
   "cell_type": "code",
   "execution_count": 2,
   "metadata": {},
   "outputs": [],
   "source": [
    "import pandas as pd\n",
    "import os\n",
    "import sys\n",
    "\n",
    "sys.path.append(\"../..\")\n",
    "from common.utils import timestep_csv_names\n",
    "from common.constants import DATAFOLDER\n",
    "\n",
    "root_dir = os.path.join(DATAFOLDER.data_root_path, \"one_day_data\")"
   ]
  },
  {
   "cell_type": "code",
   "execution_count": 9,
   "metadata": {},
   "outputs": [
    {
     "name": "stdout",
     "output_type": "stream",
     "text": [
      "['2020-10-12', '2020-09-14', '2020-08-07', '2020-07-04', '2019-10-04', '2020-10-12']\n"
     ]
    }
   ],
   "source": [
    "import json\n",
    "f = open(\"./valid_dataset.json\")\n",
    "valid_set = json.load(f)\n",
    "valid_dates = []\n",
    "for case_name in valid_set.keys():\n",
    "    for sample_name in valid_set[case_name].keys():\n",
    "        date = valid_set[case_name][sample_name][\"0\"][\"date\"]\n",
    "        valid_dates.append(date)\n",
    "\n",
    "print(valid_dates)"
   ]
  },
  {
   "cell_type": "code",
   "execution_count": 14,
   "metadata": {},
   "outputs": [
    {
     "data": {
      "text/html": [
       "<div>\n",
       "<style scoped>\n",
       "    .dataframe tbody tr th:only-of-type {\n",
       "        vertical-align: middle;\n",
       "    }\n",
       "\n",
       "    .dataframe tbody tr th {\n",
       "        vertical-align: top;\n",
       "    }\n",
       "\n",
       "    .dataframe thead th {\n",
       "        text-align: right;\n",
       "    }\n",
       "</style>\n",
       "<table border=\"1\" class=\"dataframe\">\n",
       "  <thead>\n",
       "    <tr style=\"text-align: right;\">\n",
       "      <th></th>\n",
       "      <th>date</th>\n",
       "      <th>rain</th>\n",
       "      <th>start_time</th>\n",
       "      <th>end_time</th>\n",
       "    </tr>\n",
       "  </thead>\n",
       "  <tbody>\n",
       "    <tr>\n",
       "      <th>66</th>\n",
       "      <td>2020-08-01</td>\n",
       "      <td>88.0</td>\n",
       "      <td>3-40</td>\n",
       "      <td>7-10</td>\n",
       "    </tr>\n",
       "    <tr>\n",
       "      <th>1</th>\n",
       "      <td>2020-07-27</td>\n",
       "      <td>80.0</td>\n",
       "      <td>10-50</td>\n",
       "      <td>13-40</td>\n",
       "    </tr>\n",
       "    <tr>\n",
       "      <th>20</th>\n",
       "      <td>2020-07-12</td>\n",
       "      <td>76.5</td>\n",
       "      <td>21-10</td>\n",
       "      <td>23-20</td>\n",
       "    </tr>\n",
       "    <tr>\n",
       "      <th>152</th>\n",
       "      <td>2020-05-28</td>\n",
       "      <td>65.0</td>\n",
       "      <td>5-20</td>\n",
       "      <td>7-30</td>\n",
       "    </tr>\n",
       "    <tr>\n",
       "      <th>131</th>\n",
       "      <td>2020-10-24</td>\n",
       "      <td>62.5</td>\n",
       "      <td>9-50</td>\n",
       "      <td>15-40</td>\n",
       "    </tr>\n",
       "  </tbody>\n",
       "</table>\n",
       "</div>"
      ],
      "text/plain": [
       "           date  rain start_time end_time\n",
       "66   2020-08-01  88.0       3-40     7-10\n",
       "1    2020-07-27  80.0      10-50    13-40\n",
       "20   2020-07-12  76.5      21-10    23-20\n",
       "152  2020-05-28  65.0       5-20     7-30\n",
       "131  2020-10-24  62.5       9-50    15-40"
      ]
     },
     "execution_count": 14,
     "metadata": {},
     "output_type": "execute_result"
    }
   ],
   "source": [
    "_timestep_csv_names = timestep_csv_names(delta=10)\n",
    "\n",
    "dates, rain_amounts, start_times, end_times = [], [], [], []\n",
    "for year in os.listdir(root_dir):\n",
    "    for month in os.listdir(root_dir + f\"/{year}\"):\n",
    "        for date in os.listdir(root_dir + f\"/{year}/{month}\"):\n",
    "            if date not in valid_dates:\n",
    "                minimum_data_length = 40\n",
    "                max_rainfall = 0\n",
    "                start_time = None\n",
    "                end_time = None\n",
    "                for csv_filename in _timestep_csv_names:\n",
    "                    csv_path = os.path.join(\n",
    "                            root_dir,\n",
    "                            year, month, date, csv_filename\n",
    "                        )\n",
    "                    parquet_path = csv_path.replace(\".csv\", \".parquet.gzip\")\n",
    "                    parquet_df = pd.read_parquet(parquet_path, engine=\"pyarrow\")\n",
    "\n",
    "                    if parquet_df[\"hour-rain\"].max() >= 5:\n",
    "                        if parquet_df[\"hour-rain\"].max() > max_rainfall:\n",
    "                            max_rainfall = parquet_df[\"hour-rain\"].max()\n",
    "                        if start_time is None:\n",
    "                            start_time = csv_filename.replace(\".csv\", \"\")\n",
    "\n",
    "                    if start_time is not None and parquet_df[\"hour-rain\"].max() < 5:\n",
    "                        end_time = csv_filename.replace(\".csv\", \"\")\n",
    "                        if _timestep_csv_names.index(end_time+\".csv\") - _timestep_csv_names.index(start_time+\".csv\") > 7:\n",
    "                            dates.append(date)\n",
    "                            rain_amounts.append(max_rainfall)\n",
    "                            start_times.append(start_time)\n",
    "                            end_times.append(end_time)\n",
    "                            \n",
    "                        start_time = None\n",
    "                        end_time = None\n",
    "                        max_rainfall = 0\n",
    "\n",
    "                    if len(parquet_df.index) < minimum_data_length:\n",
    "                        minimum_data_length = len(parquet_df.index)\n",
    "\n",
    "                if minimum_data_length > 0 and start_time is not None and end_time is None:\n",
    "                    end_time = csv_filename.replace(\".csv\", \"\")\n",
    "                    if _timestep_csv_names.index(end_time+\".csv\") - _timestep_csv_names.index(start_time+\".csv\") > 7:\n",
    "                        dates.append(date)\n",
    "                        rain_amounts.append(max_rainfall)\n",
    "                        start_times.append(start_time)\n",
    "                        end_times.append(end_time)\n",
    "\n",
    "df = pd.DataFrame({\"date\": dates, \"rain\": rain_amounts, \"start_time\": start_times, \"end_time\": end_times})\n",
    "df = df.sort_values(by=\"rain\", ascending=False)\n",
    "df.reset_index()\n",
    "df.head()"
   ]
  },
  {
   "cell_type": "code",
   "execution_count": 15,
   "metadata": {},
   "outputs": [],
   "source": [
    "df.to_csv(\"train_dataset.csv\")"
   ]
  },
  {
   "cell_type": "code",
   "execution_count": 18,
   "metadata": {},
   "outputs": [],
   "source": [
    "for date in df[\"date\"]:\n",
    "    assert date not in valid_dates"
   ]
  },
  {
   "cell_type": "code",
   "execution_count": null,
   "metadata": {},
   "outputs": [],
   "source": []
  }
 ],
 "metadata": {
  "interpreter": {
   "hash": "0295668de9a873250d44a1e814ff95f1779177595c175aeb6627898987762872"
  },
  "kernelspec": {
   "display_name": "Python 3.7.9 64-bit ('p-poteka': conda)",
   "name": "python3"
  },
  "language_info": {
   "codemirror_mode": {
    "name": "ipython",
    "version": 3
   },
   "file_extension": ".py",
   "mimetype": "text/x-python",
   "name": "python",
   "nbconvert_exporter": "python",
   "pygments_lexer": "ipython3",
   "version": "3.7.9"
  },
  "orig_nbformat": 4
 },
 "nbformat": 4,
 "nbformat_minor": 2
}