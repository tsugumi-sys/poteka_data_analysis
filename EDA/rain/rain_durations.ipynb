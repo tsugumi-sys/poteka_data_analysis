{
 "cells": [
  {
   "cell_type": "code",
   "execution_count": 2,
   "metadata": {},
   "outputs": [],
   "source": [
    "import pandas as pd\n",
    "import os\n",
    "import sys\n",
    "\n",
    "sys.path.append(\"../..\")\n",
    "from common.utils import timestep_csv_names\n",
    "from common.constants import DATAFOLDER\n",
    "\n",
    "root_dir = os.path.join(DATAFOLDER.data_root_path, \"one_day_data\")"
   ]
  },
  {
   "cell_type": "code",
   "execution_count": 7,
   "metadata": {},
   "outputs": [
    {
     "data": {
      "text/html": [
       "<div>\n",
       "<style scoped>\n",
       "    .dataframe tbody tr th:only-of-type {\n",
       "        vertical-align: middle;\n",
       "    }\n",
       "\n",
       "    .dataframe tbody tr th {\n",
       "        vertical-align: top;\n",
       "    }\n",
       "\n",
       "    .dataframe thead th {\n",
       "        text-align: right;\n",
       "    }\n",
       "</style>\n",
       "<table border=\"1\" class=\"dataframe\">\n",
       "  <thead>\n",
       "    <tr style=\"text-align: right;\">\n",
       "      <th></th>\n",
       "      <th>date</th>\n",
       "      <th>rain</th>\n",
       "      <th>start_time</th>\n",
       "      <th>end_time</th>\n",
       "    </tr>\n",
       "  </thead>\n",
       "  <tbody>\n",
       "    <tr>\n",
       "      <th>34</th>\n",
       "      <td>2020-09-01</td>\n",
       "      <td>20.5</td>\n",
       "      <td>23-30</td>\n",
       "      <td>23-50.csv</td>\n",
       "    </tr>\n",
       "    <tr>\n",
       "      <th>274</th>\n",
       "      <td>2020-05-29</td>\n",
       "      <td>19.5</td>\n",
       "      <td>13-10</td>\n",
       "      <td>14-20</td>\n",
       "    </tr>\n",
       "    <tr>\n",
       "      <th>160</th>\n",
       "      <td>2020-11-03</td>\n",
       "      <td>19.0</td>\n",
       "      <td>7-10</td>\n",
       "      <td>10-0</td>\n",
       "    </tr>\n",
       "    <tr>\n",
       "      <th>56</th>\n",
       "      <td>2020-09-14</td>\n",
       "      <td>19.0</td>\n",
       "      <td>4-50</td>\n",
       "      <td>7-0</td>\n",
       "    </tr>\n",
       "    <tr>\n",
       "      <th>73</th>\n",
       "      <td>2020-09-19</td>\n",
       "      <td>17.5</td>\n",
       "      <td>5-40</td>\n",
       "      <td>7-40</td>\n",
       "    </tr>\n",
       "  </tbody>\n",
       "</table>\n",
       "</div>"
      ],
      "text/plain": [
       "           date  rain start_time   end_time\n",
       "34   2020-09-01  20.5      23-30  23-50.csv\n",
       "274  2020-05-29  19.5      13-10      14-20\n",
       "160  2020-11-03  19.0       7-10       10-0\n",
       "56   2020-09-14  19.0       4-50        7-0\n",
       "73   2020-09-19  17.5       5-40       7-40"
      ]
     },
     "execution_count": 7,
     "metadata": {},
     "output_type": "execute_result"
    }
   ],
   "source": [
    "_timestep_csv_names = timestep_csv_names(delta=10)\n",
    "\n",
    "dates, rain_amounts, start_times, end_times = [], [], [], []\n",
    "for year in os.listdir(root_dir):\n",
    "    for month in os.listdir(root_dir + f\"/{year}\"):\n",
    "        for date in os.listdir(root_dir + f\"/{year}/{month}\"):\n",
    "            minimum_data_length = 40\n",
    "            start_time = None\n",
    "            end_time = None\n",
    "            for csv_filename in _timestep_csv_names:\n",
    "                csv_path = os.path.join(\n",
    "                        root_dir,\n",
    "                        year, month, date, csv_filename\n",
    "                    )\n",
    "                parquet_path = csv_path.replace(\".csv\", \".parquet.gzip\")\n",
    "                parquet_df = pd.read_parquet(parquet_path, engine=\"pyarrow\")\n",
    "\n",
    "                if parquet_df[\"hour-rain\"].max() >= 5:\n",
    "                    max_rainfall = parquet_df[\"hour-rain\"].max()\n",
    "                    if start_time is None:\n",
    "                        start_time = csv_filename.replace(\".csv\", \"\")\n",
    "\n",
    "                if start_time is not None and parquet_df[\"hour-rain\"].max() < 5:\n",
    "                    end_time = csv_filename.replace(\".csv\", \"\")\n",
    "                    dates.append(date)\n",
    "                    rain_amounts.append(max_rainfall)\n",
    "                    start_times.append(start_time)\n",
    "                    end_times.append(end_time)\n",
    "                    \n",
    "                    start_time = None\n",
    "                    end_time = None\n",
    "                    max_rainfall = 0\n",
    "\n",
    "                if len(parquet_df.index) < minimum_data_length:\n",
    "                    minimum_data_length = len(parquet_df.index)\n",
    "\n",
    "            if minimum_data_length > 0 and start_time is not None and end_time is None:\n",
    "                dates.append(date)\n",
    "                rain_amounts.append(max_rainfall)\n",
    "                start_times.append(start_time)\n",
    "                end_times.append(csv_filename.replace(\".csv\", \"\"))\n",
    "\n",
    "df = pd.DataFrame({\"date\": dates, \"rain\": rain_amounts, \"start_time\": start_times, \"end_time\": end_times})\n",
    "df = df.sort_values(by=\"rain\", ascending=False)\n",
    "df.reset_index()\n",
    "df.head()"
   ]
  },
  {
   "cell_type": "code",
   "execution_count": 9,
   "metadata": {},
   "outputs": [],
   "source": [
    "df.to_csv(\"train_dataset.csv\")"
   ]
  },
  {
   "cell_type": "code",
   "execution_count": null,
   "metadata": {},
   "outputs": [],
   "source": []
  }
 ],
 "metadata": {
  "interpreter": {
   "hash": "0295668de9a873250d44a1e814ff95f1779177595c175aeb6627898987762872"
  },
  "kernelspec": {
   "display_name": "Python 3.7.9 64-bit ('p-poteka': conda)",
   "name": "python3"
  },
  "language_info": {
   "codemirror_mode": {
    "name": "ipython",
    "version": 3
   },
   "file_extension": ".py",
   "mimetype": "text/x-python",
   "name": "python",
   "nbconvert_exporter": "python",
   "pygments_lexer": "ipython3",
   "version": "3.7.9"
  },
  "orig_nbformat": 4
 },
 "nbformat": 4,
 "nbformat_minor": 2
}