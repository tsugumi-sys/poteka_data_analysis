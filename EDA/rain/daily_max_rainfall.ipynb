{
 "cells": [
  {
   "cell_type": "code",
   "execution_count": 1,
   "metadata": {},
   "outputs": [],
   "source": [
    "import pandas as pd"
   ]
  },
  {
   "cell_type": "code",
   "execution_count": 11,
   "metadata": {},
   "outputs": [
    {
     "data": {
      "text/html": [
       "<div>\n",
       "<style scoped>\n",
       "    .dataframe tbody tr th:only-of-type {\n",
       "        vertical-align: middle;\n",
       "    }\n",
       "\n",
       "    .dataframe tbody tr th {\n",
       "        vertical-align: top;\n",
       "    }\n",
       "\n",
       "    .dataframe thead th {\n",
       "        text-align: right;\n",
       "    }\n",
       "</style>\n",
       "<table border=\"1\" class=\"dataframe\">\n",
       "  <thead>\n",
       "    <tr style=\"text-align: right;\">\n",
       "      <th></th>\n",
       "      <th>Unnamed: 0</th>\n",
       "      <th>date</th>\n",
       "      <th>rain</th>\n",
       "      <th>time</th>\n",
       "      <th>month</th>\n",
       "    </tr>\n",
       "  </thead>\n",
       "  <tbody>\n",
       "    <tr>\n",
       "      <th>0</th>\n",
       "      <td>133</td>\n",
       "      <td>2020-08-01</td>\n",
       "      <td>88.0</td>\n",
       "      <td>5-0</td>\n",
       "      <td>8</td>\n",
       "    </tr>\n",
       "    <tr>\n",
       "      <th>1</th>\n",
       "      <td>236</td>\n",
       "      <td>2020-10-12</td>\n",
       "      <td>82.0</td>\n",
       "      <td>8-10</td>\n",
       "      <td>10</td>\n",
       "    </tr>\n",
       "    <tr>\n",
       "      <th>2</th>\n",
       "      <td>0</td>\n",
       "      <td>2020-07-27</td>\n",
       "      <td>80.0</td>\n",
       "      <td>12-20</td>\n",
       "      <td>7</td>\n",
       "    </tr>\n",
       "    <tr>\n",
       "      <th>3</th>\n",
       "      <td>26</td>\n",
       "      <td>2020-07-12</td>\n",
       "      <td>76.5</td>\n",
       "      <td>22-0</td>\n",
       "      <td>7</td>\n",
       "    </tr>\n",
       "    <tr>\n",
       "      <th>4</th>\n",
       "      <td>41</td>\n",
       "      <td>2020-09-14</td>\n",
       "      <td>76.0</td>\n",
       "      <td>6-0</td>\n",
       "      <td>9</td>\n",
       "    </tr>\n",
       "  </tbody>\n",
       "</table>\n",
       "</div>"
      ],
      "text/plain": [
       "   Unnamed: 0        date  rain   time  month\n",
       "0         133  2020-08-01  88.0    5-0      8\n",
       "1         236  2020-10-12  82.0   8-10     10\n",
       "2           0  2020-07-27  80.0  12-20      7\n",
       "3          26  2020-07-12  76.5   22-0      7\n",
       "4          41  2020-09-14  76.0    6-0      9"
      ]
     },
     "execution_count": 11,
     "metadata": {},
     "output_type": "execute_result"
    }
   ],
   "source": [
    "df = pd.read_csv('./daily_max_rainfall.csv')\n",
    "year_and_month = df['date'].str.split('-', 2, expand=True)\n",
    "df['month'] = year_and_month[1].astype(int)\n",
    "df.head()"
   ]
  },
  {
   "cell_type": "code",
   "execution_count": 16,
   "metadata": {},
   "outputs": [
    {
     "data": {
      "image/png": "[encoded data removed]",
      "text/plain": [
       "<Figure size 800x600 with 1 Axes>"
      ]
     },
     "metadata": {},
     "output_type": "display_data"
    }
   ],
   "source": [
    "import seaborn as sns\n",
    "import matplotlib.pyplot as plt\n",
    "\n",
    "fig, ax = plt.subplots(figsize=(8, 6))\n",
    "sns.histplot(data=df, x='rain', ax=ax)\n",
    "ax.set_title('Rainfall intensity histogram of P-POTEKA dataset.')\n",
    "ax.set_xlabel('Rainfall intensity (mm/h)')\n",
    "fig.savefig('rainfall-instensity-histogram.png')"
   ]
  },
  {
   "cell_type": "code",
   "execution_count": 1,
   "metadata": {},
   "outputs": [],
   "source": [
    "import pandas as pd\n",
    "import sys\n",
    "\n",
    "sys.path.append(\"../..\")\n",
    "from common.utils import timestep_csv_names"
   ]
  },
  {
   "cell_type": "code",
   "execution_count": 2,
   "metadata": {},
   "outputs": [],
   "source": [
    "import os\n",
    "root_dir = \"../../../data/one_day_data/\"\n",
    "assert os.path.exists(root_dir)"
   ]
  },
  {
   "cell_type": "code",
   "execution_count": 3,
   "metadata": {},
   "outputs": [
    {
     "data": {
      "text/html": [
       "<div>\n",
       "<style scoped>\n",
       "    .dataframe tbody tr th:only-of-type {\n",
       "        vertical-align: middle;\n",
       "    }\n",
       "\n",
       "    .dataframe tbody tr th {\n",
       "        vertical-align: top;\n",
       "    }\n",
       "\n",
       "    .dataframe thead th {\n",
       "        text-align: right;\n",
       "    }\n",
       "</style>\n",
       "<table border=\"1\" class=\"dataframe\">\n",
       "  <thead>\n",
       "    <tr style=\"text-align: right;\">\n",
       "      <th></th>\n",
       "      <th>date</th>\n",
       "      <th>rain</th>\n",
       "      <th>time</th>\n",
       "    </tr>\n",
       "  </thead>\n",
       "  <tbody>\n",
       "    <tr>\n",
       "      <th>232</th>\n",
       "      <td>2020-07-12</td>\n",
       "      <td>45.0</td>\n",
       "      <td>21-30</td>\n",
       "    </tr>\n",
       "    <tr>\n",
       "      <th>145</th>\n",
       "      <td>2020-05-25</td>\n",
       "      <td>42.0</td>\n",
       "      <td>19-20</td>\n",
       "    </tr>\n",
       "    <tr>\n",
       "      <th>240</th>\n",
       "      <td>2020-07-26</td>\n",
       "      <td>42.0</td>\n",
       "      <td>9-50</td>\n",
       "    </tr>\n",
       "    <tr>\n",
       "      <th>251</th>\n",
       "      <td>2020-09-23</td>\n",
       "      <td>41.5</td>\n",
       "      <td>9-30</td>\n",
       "    </tr>\n",
       "    <tr>\n",
       "      <th>244</th>\n",
       "      <td>2020-07-27</td>\n",
       "      <td>40.5</td>\n",
       "      <td>11-30</td>\n",
       "    </tr>\n",
       "  </tbody>\n",
       "</table>\n",
       "</div>"
      ],
      "text/plain": [
       "           date  rain   time\n",
       "232  2020-07-12  45.0  21-30\n",
       "145  2020-05-25  42.0  19-20\n",
       "240  2020-07-26  42.0   9-50\n",
       "251  2020-09-23  41.5   9-30\n",
       "244  2020-07-27  40.5  11-30"
      ]
     },
     "execution_count": 3,
     "metadata": {},
     "output_type": "execute_result"
    }
   ],
   "source": [
    "_timestep_csv_names = timestep_csv_names(delta=10)\n",
    "\n",
    "dates, rain_amounts, start_times = [], [], []\n",
    "for year in os.listdir(root_dir):\n",
    "    for month in os.listdir(root_dir + f\"/{year}\"):\n",
    "        for date in os.listdir(root_dir + f\"/{year}/{month}\"):\n",
    "            max_rainfall = 0\n",
    "            minimum_data_length = 40\n",
    "            start_time = \"0-0\"\n",
    "            for csv_filename in _timestep_csv_names:\n",
    "                csv_path = os.path.join(\n",
    "                        root_dir,\n",
    "                        year, month, date, csv_filename\n",
    "                    )\n",
    "                parquet_path = csv_path.replace(\".csv\", \".parquet.gzip\")\n",
    "                parquet_df = pd.read_parquet(parquet_path, engine=\"pyarrow\")\n",
    "\n",
    "                if parquet_df[\"AT1\"].max() > max_rainfall:\n",
    "                    max_rainfall = parquet_df[\"hour-rain\"].max()\n",
    "                    start_time = csv_filename.replace(\".csv\", \"\")\n",
    "\n",
    "                if len(parquet_df.index) < minimum_data_length:\n",
    "                    minimum_data_length = len(parquet_df.index)\n",
    "\n",
    "            if minimum_data_length > 0:\n",
    "                dates.append(date)\n",
    "                rain_amounts.append(max_rainfall)\n",
    "                start_times.append(start_time)\n",
    "\n",
    "df = pd.DataFrame({\"date\": dates, \"rain\": rain_amounts, \"time\": start_times})\n",
    "df = df.sort_values(by=\"rain\", ascending=False)\n",
    "df.reset_index()\n",
    "df.head()"
   ]
  },
  {
   "cell_type": "code",
   "execution_count": 4,
   "metadata": {},
   "outputs": [],
   "source": [
    "df.to_csv(\"daily_max_rainfall.csv\")"
   ]
  },
  {
   "cell_type": "code",
   "execution_count": null,
   "metadata": {},
   "outputs": [],
   "source": []
  }
 ],
 "metadata": {
  "kernelspec": {
   "display_name": "poteka-pipeline-pytorch",
   "language": "python",
   "name": "python3"
  },
  "language_info": {
   "codemirror_mode": {
    "name": "ipython",
    "version": 3
   },
   "file_extension": ".py",
   "mimetype": "text/x-python",
   "name": "python",
   "nbconvert_exporter": "python",
   "pygments_lexer": "ipython3",
   "version": "3.9.7"
  },
  "orig_nbformat": 4,
  "vscode": {
   "interpreter": {
    "hash": "2e0066cd67026a07bf3bf54f05d3f84018e4b6699f7fdc0153ea187bfb4fc5ad"
   }
  }
 },
 "nbformat": 4,
 "nbformat_minor": 2
}
